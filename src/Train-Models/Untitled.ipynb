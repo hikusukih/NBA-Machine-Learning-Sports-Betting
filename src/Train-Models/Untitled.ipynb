{
 "cells": [
  {
   "cell_type": "code",
   "execution_count": null,
   "id": "43344f58-5e10-46d7-895e-e2823715c39a",
   "metadata": {},
   "outputs": [],
   "source": [
    "# Provide a brief overview of the project's goal.\n",
    "# Import all necessary libraries.\n",
    "import sqlite3\n",
    "\n",
    "import numpy as np\n",
    "import pandas as pd\n",
    "import xgboost as xgb\n",
    "from sklearn.metrics import accuracy_score\n",
    "from sklearn.model_selection import train_test_split\n",
    "from tqdm import tqdm\n",
    "\n",
    "# Jupyter convention for inline visualization (if needed)\n",
    "%matplotlib inline\n",
    "\n"
   ]
  },
  {
   "cell_type": "code",
   "execution_count": null,
   "id": "3000a1ae-b893-4c5e-bd74-632ed1e73729",
   "metadata": {},
   "outputs": [],
   "source": [
    "# Explain the source of data and the purpose of each line.\n",
    "# Load the dataset from the SQLite database.\n",
    "\n",
    "dataset = \"dataset_2012-24\"\n",
    "con = sqlite3.connect(\"../../Data/dataset.sqlite\")\n",
    "data = pd.read_sql_query(f\"select * from \\\"{dataset}\\\"\", con, index_col=\"index\")\n",
    "con.close()"
   ]
  },
  {
   "cell_type": "code",
   "execution_count": null,
   "id": "396a7204-b473-4c4e-bebd-219f28b189e0",
   "metadata": {},
   "outputs": [],
   "source": [
    "# Detail the preprocessing steps.\n",
    "# Drop unnecessary columns and convert data types.\n",
    "margin = data['Home-Team-Win']\n",
    "data.drop(['Score', 'Home-Team-Win', 'TEAM_NAME', 'Date', 'TEAM_NAME.1', 'Date.1', 'OU-Cover', 'OU'],\n",
    "          axis=1, inplace=True)\n",
    "data = data.values\n",
    "data = data.astype(float)"
   ]
  },
  {
   "cell_type": "code",
   "execution_count": null,
   "id": "d7fff4d5-0c42-4727-9d5b-32304a3374bc",
   "metadata": {},
   "outputs": [],
   "source": [
    "# Define the parameters for the XGBoost model.\n",
    "# Discuss each parameter's role.\n",
    "param = {\n",
    "    \"max_depth\": 3,\n",
    "    \"learning_rate\": 0.1,\n",
    "    \"subsample\": 0.6,\n",
    "    \"colsample_bytree\": 0.6,\n",
    "    \"min_child_weight\": 4,\n",
    "    'eta': 0.01,\n",
    "    'num_class': 2,\n",
    "    'objective': 'multi:softprob',\n",
    "}\n",
    "epochs = 800\n"
   ]
  },
  {
   "cell_type": "code",
   "execution_count": null,
   "id": "75227c71-e2ab-4ca8-87d3-315f40b17855",
   "metadata": {},
   "outputs": [],
   "source": [
    "# Explain the model training process.\n",
    "# Implement the loop for training the model and evaluating accuracy.\n",
    "\n",
    "acc_results = []\n",
    "with tqdm(total=300) as progress_bar:\n",
    "    for x in range(300):\n",
    "        x_train, x_test, y_train, y_test = train_test_split(data, margin, test_size=.1)\n",
    "        train = xgb.DMatrix(x_train, label=y_train)\n",
    "        test = xgb.DMatrix(x_test, label=y_test)\n",
    "        model = xgb.train(param, train, epochs)\n",
    "        predictions = model.predict(test)\n",
    "        y = [np.argmax(z) for z in predictions]\n",
    "        acc = round(accuracy_score(y_test, y) * 100, 1)\n",
    "        acc_results.append(acc)\n",
    "        best_acc = max(acc_results)\n",
    "        if acc == best_acc:\n",
    "            model.save_model('../../Models/XGBoost_{}%_ML-4.json'.format(acc))\n",
    "        progress_bar.set_description(f\"Accuracy: {best_acc}\")\n",
    "        progress_bar.update(1)\n"
   ]
  },
  {
   "cell_type": "code",
   "execution_count": null,
   "id": "be915e53-7466-4c65-b5e0-c2457f0105e2",
   "metadata": {},
   "outputs": [],
   "source": [
    "import matplotlib.pyplot as plt\n",
    "\n",
    "# Assuming 'data' is your DataFrame after preprocessing\n",
    "data.hist(bins=50, figsize=(20,15))\n",
    "plt.show()\n"
   ]
  }
 ],
 "metadata": {
  "kernelspec": {
   "display_name": "Python 3 (ipykernel)",
   "language": "python",
   "name": "python3"
  },
  "language_info": {
   "codemirror_mode": {
    "name": "ipython",
    "version": 3
   },
   "file_extension": ".py",
   "mimetype": "text/x-python",
   "name": "python",
   "nbconvert_exporter": "python",
   "pygments_lexer": "ipython3",
   "version": "3.12.2"
  }
 },
 "nbformat": 4,
 "nbformat_minor": 5
}
