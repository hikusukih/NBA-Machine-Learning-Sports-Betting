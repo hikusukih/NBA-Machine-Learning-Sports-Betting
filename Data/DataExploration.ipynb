{
 "cells": [
  {
   "cell_type": "code",
   "execution_count": null,
   "id": "534932f5-d8d8-4982-aa7c-4a45b66218a6",
   "metadata": {},
   "outputs": [],
   "source": [
    "import pandas as pd"
   ]
  },
  {
   "cell_type": "code",
   "execution_count": null,
   "id": "fd3af33e-62a9-4f3c-8ed5-f8fe0f9c4367",
   "metadata": {},
   "outputs": [],
   "source": [
    "import sqlite3\n",
    "connTeams = sqlite3.connect(\"Data/teams.sqlite\")\n",
    "connOdds = sqlite3.connect(\"Data/odds.sqlite\")\n",
    "connData = sqlite3.connect(\"Data/dataset.sqlite\")\n",
    "\n",
    "sqlSelectTables = \"SELECT name FROM sqlite_master WHERE type='table';\"\n",
    "\n",
    "tables_teams = pd.read_sql(sqlSelectTables, connTeams)\n",
    "tables_odds = pd.read_sql(sqlSelectTables, connOdds)\n",
    "tables_data = pd.read_sql(sqlSelectTables, connData)\n",
    "\n",
    "print(tables_teams)\n",
    "print(tables_odds)\n",
    "print(tables_data)"
   ]
  },
  {
   "cell_type": "code",
   "execution_count": null,
   "id": "4450acab-2ba2-4a11-ad26-f2abe48ce6ff",
   "metadata": {},
   "outputs": [],
   "source": [
    "# Read the table into a pandas DataFrame\n",
    "table_name = \"teams_2023-24-4-13\"\n",
    "escaped_table_name = f'\"{table_name}\"'  # Escape table name with double quotes\n",
    "df_teams = pd.read_sql(\"SELECT * FROM \" + escaped_table_name, connTeams)\n",
    "\n",
    "table_name = \"odds_2023-24\"\n",
    "escaped_table_name = f'\"{table_name}\"'  # Escape table name with double quotes\n",
    "df_odds = pd.read_sql(\"SELECT * FROM \" + escaped_table_name, connOdds)\n",
    "\n",
    "table_name = \"dataset_2012-24\"\n",
    "escaped_table_name = f'\"{table_name}\"'  # Escape table name with double quotes\n",
    "df_data = pd.read_sql(\"SELECT * FROM \" + escaped_table_name, connData)\n",
    "\n",
    "\n",
    "# Display the DataFrame\n",
    "print(df_teams.head())\n",
    "print(df_odds.head())\n",
    "print(df_data.head())\n"
   ]
  },
  {
   "cell_type": "code",
   "execution_count": null,
   "id": "920bb766-ce4b-4688-b956-750fa4cf4c9e",
   "metadata": {},
   "outputs": [],
   "source": [
    "tables = pd.read_sql(\"SELECT name FROM sqlite_master WHERE type='table';\", conn)\n",
    "tables"
   ]
  },
  {
   "cell_type": "code",
   "execution_count": null,
   "id": "394a8ed4-0601-4619-adc5-7d89918d2851",
   "metadata": {},
   "outputs": [],
   "source": [
    "season_2021_22 = tables[tables['name'].str.contains('teams_2021-22')]\n",
    "season_2021_22\n",
    "\n",
    "# Check the schema for teams_2021-22-2-5\n",
    "# columns_2021_22_2_5 = pd.read_sql(\"PRAGMA table_info(teams_2021-22-2-5);\", conn)\n",
    "# columns_2021_22_2_5\n",
    "\n",
    "# # Preview the first 5 rows from teams_2021-22-2-5\n",
    "# preview_2021_22_2_5 = pd.read_sql('SELECT * FROM teams_2021-22-2-5 LIMIT 5;', conn)\n",
    "# preview_2021_22_2_5\n",
    "\n"
   ]
  },
  {
   "cell_type": "code",
   "execution_count": null,
   "id": "7f7a2604-ac62-4884-9858-63a405c43227",
   "metadata": {},
   "outputs": [],
   "source": [
    "# Loop through a selection of tables and show their preview with escaped table names\n",
    "for table_name in season_2021_22['name']:\n",
    "    print(f\"Preview of table: {table_name}\")\n",
    "    escaped_table_name = f'\"{table_name}\"'  # Escape table name with double quotes\n",
    "    preview = pd.read_sql(f'SELECT * FROM {escaped_table_name} LIMIT 5;', conn)\n",
    "    print(preview)\n",
    "    print(\"\\n\")"
   ]
  },
  {
   "cell_type": "code",
   "execution_count": null,
   "id": "35136a26-268c-4ae8-a597-ee1ea3ae6baf",
   "metadata": {},
   "outputs": [],
   "source": [
    "import matplotlib.pyplot as plt\n",
    "import seaborn as sns\n"
   ]
  },
  {
   "cell_type": "code",
   "execution_count": null,
   "id": "5c822685-0706-458e-b8d4-6f5c1b083fd6",
   "metadata": {},
   "outputs": [],
   "source": [
    "# Load data from a specific table into a DataFrame (e.g., teams_2021-22-2-5)\n",
    "escaped_table_name = '\"teams_2021-22-2-5\"'\n",
    "df = pd.read_sql(f'SELECT * FROM {escaped_table_name};', conn)\n",
    "\n",
    "# Preview the data\n",
    "df.head()\n"
   ]
  },
  {
   "cell_type": "code",
   "execution_count": null,
   "id": "0eeb1059-0c0a-4509-b6f0-2b9d34064eef",
   "metadata": {},
   "outputs": [],
   "source": [
    "# Example line plot: Assuming you have \"date\" and \"score\" columns\n",
    "sns.lineplot(data=df, x='GP', y='W')  # Replace 'date' and 'score' with actual columns\n",
    "plt.xticks(rotation=45)\n",
    "plt.show()\n"
   ]
  },
  {
   "cell_type": "code",
   "execution_count": null,
   "id": "6e97e69d-4606-4a4d-8930-57c0efa071d7",
   "metadata": {},
   "outputs": [],
   "source": [
    "# Find columns shared across all tables in the 2021-22 season\n",
    "shared_columns = None\n",
    "for table_name in season_2021_22['name']:\n",
    "    escaped_table_name = '\"' + table_name + '\"'\n",
    "    # print(escaped_table_name)\n",
    "    columns = pd.read_sql(f\"PRAGMA table_info({escaped_table_name});\", conn)['name']\n",
    "    if shared_columns is None:\n",
    "        shared_columns = set(columns)\n",
    "        # shared_columns\n",
    "    else:\n",
    "        shared_columns.intersection_update(columns)\n",
    "        \n",
    "shared_columns\n"
   ]
  }
 ],
 "metadata": {
  "kernelspec": {
   "display_name": "Python 3 (ipykernel)",
   "language": "python",
   "name": "python3"
  },
  "language_info": {
   "codemirror_mode": {
    "name": "ipython",
    "version": 3
   },
   "file_extension": ".py",
   "mimetype": "text/x-python",
   "name": "python",
   "nbconvert_exporter": "python",
   "pygments_lexer": "ipython3",
   "version": "3.11.9"
  }
 },
 "nbformat": 4,
 "nbformat_minor": 5
}
