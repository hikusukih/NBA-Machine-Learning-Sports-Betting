{
 "cells": [
  {
   "cell_type": "code",
   "execution_count": 1,
   "id": "4357a3d7-37fe-4598-b98a-9f17c0da9893",
   "metadata": {},
   "outputs": [
    {
     "data": {
      "text/html": [
       "<div>\n",
       "<style scoped>\n",
       "    .dataframe tbody tr th:only-of-type {\n",
       "        vertical-align: middle;\n",
       "    }\n",
       "\n",
       "    .dataframe tbody tr th {\n",
       "        vertical-align: top;\n",
       "    }\n",
       "\n",
       "    .dataframe thead th {\n",
       "        text-align: right;\n",
       "    }\n",
       "</style>\n",
       "<table border=\"1\" class=\"dataframe\">\n",
       "  <thead>\n",
       "    <tr style=\"text-align: right;\">\n",
       "      <th></th>\n",
       "      <th>name</th>\n",
       "    </tr>\n",
       "  </thead>\n",
       "  <tbody>\n",
       "    <tr>\n",
       "      <th>0</th>\n",
       "      <td>teams_2021-22-2-5</td>\n",
       "    </tr>\n",
       "    <tr>\n",
       "      <th>1</th>\n",
       "      <td>teams_2021-22-12-31</td>\n",
       "    </tr>\n",
       "    <tr>\n",
       "      <th>2</th>\n",
       "      <td>teams_2021-22-12-9</td>\n",
       "    </tr>\n",
       "    <tr>\n",
       "      <th>3</th>\n",
       "      <td>teams_2021-22-1-17</td>\n",
       "    </tr>\n",
       "    <tr>\n",
       "      <th>4</th>\n",
       "      <td>teams_2021-22-11-22</td>\n",
       "    </tr>\n",
       "    <tr>\n",
       "      <th>...</th>\n",
       "      <td>...</td>\n",
       "    </tr>\n",
       "    <tr>\n",
       "      <th>4242</th>\n",
       "      <td>teams_2007-08-11-22</td>\n",
       "    </tr>\n",
       "    <tr>\n",
       "      <th>4243</th>\n",
       "      <td>teams_2007-08-11-23</td>\n",
       "    </tr>\n",
       "    <tr>\n",
       "      <th>4244</th>\n",
       "      <td>teams_2007-08-11-24</td>\n",
       "    </tr>\n",
       "    <tr>\n",
       "      <th>4245</th>\n",
       "      <td>teams_2007-08-11-25</td>\n",
       "    </tr>\n",
       "    <tr>\n",
       "      <th>4246</th>\n",
       "      <td>teams_2007-08-11-26</td>\n",
       "    </tr>\n",
       "  </tbody>\n",
       "</table>\n",
       "<p>4247 rows × 1 columns</p>\n",
       "</div>"
      ],
      "text/plain": [
       "                     name\n",
       "0       teams_2021-22-2-5\n",
       "1     teams_2021-22-12-31\n",
       "2      teams_2021-22-12-9\n",
       "3      teams_2021-22-1-17\n",
       "4     teams_2021-22-11-22\n",
       "...                   ...\n",
       "4242  teams_2007-08-11-22\n",
       "4243  teams_2007-08-11-23\n",
       "4244  teams_2007-08-11-24\n",
       "4245  teams_2007-08-11-25\n",
       "4246  teams_2007-08-11-26\n",
       "\n",
       "[4247 rows x 1 columns]"
      ]
     },
     "execution_count": 1,
     "metadata": {},
     "output_type": "execute_result"
    }
   ],
   "source": [
    "import pandas as pd\n",
    "import sqlite3\n",
    "connTeams = sqlite3.connect(\"teams.sqlite\")\n",
    "\n",
    "sqlSelectTables = \"SELECT name FROM sqlite_master WHERE type='table';\"\n",
    "\n",
    "tables_teams = pd.read_sql(sqlSelectTables, connTeams)\n",
    "\n",
    "tables_teams"
   ]
  },
  {
   "cell_type": "code",
   "execution_count": 5,
   "id": "06a4d01f-d0dc-4026-afaf-fd376e1bb4c7",
   "metadata": {},
   "outputs": [
    {
     "data": {
      "text/plain": [
       "Index(['index', 'Unnamed: 0', 'TEAM_ID', 'TEAM_NAME', 'GP', 'W', 'L', 'W_PCT',\n",
       "       'MIN', 'FGM', 'FGA', 'FG_PCT', 'FG3M', 'FG3A', 'FG3_PCT', 'FTM', 'FTA',\n",
       "       'FT_PCT', 'OREB', 'DREB', 'REB', 'AST', 'TOV', 'STL', 'BLK', 'BLKA',\n",
       "       'PF', 'PFD', 'PTS', 'PLUS_MINUS', 'GP_RANK', 'W_RANK', 'L_RANK',\n",
       "       'W_PCT_RANK', 'MIN_RANK', 'FGM_RANK', 'FGA_RANK', 'FG_PCT_RANK',\n",
       "       'FG3M_RANK', 'FG3A_RANK', 'FG3_PCT_RANK', 'FTM_RANK', 'FTA_RANK',\n",
       "       'FT_PCT_RANK', 'OREB_RANK', 'DREB_RANK', 'REB_RANK', 'AST_RANK',\n",
       "       'TOV_RANK', 'STL_RANK', 'BLK_RANK', 'BLKA_RANK', 'PF_RANK', 'PFD_RANK',\n",
       "       'PTS_RANK', 'PLUS_MINUS_RANK', 'CFID', 'CFPARAMS', 'Date'],\n",
       "      dtype='object')"
      ]
     },
     "execution_count": 5,
     "metadata": {},
     "output_type": "execute_result"
    }
   ],
   "source": [
    "# Read the table into a pandas DataFrame\n",
    "table_name = \"teams_2021-22-12-31\"\n",
    "escaped_table_name = f'\"{table_name}\"'  # Escape table name with double quotes\n",
    "df_teams = pd.read_sql(\"SELECT * FROM \" + escaped_table_name, connTeams)\n",
    "df_teams.columns\n",
    "\n",
    "# # Read the table into a pandas DataFrame\n",
    "# table_name = \"teams_2007-08-11-26\"\n",
    "# escaped_table_name = f'\"{table_name}\"'  # Escape table name with double quotes\n",
    "# df_teams = pd.read_sql(\"SELECT * FROM \" + escaped_table_name, connTeams)\n",
    "# df_teams"
   ]
  },
  {
   "cell_type": "code",
   "execution_count": 6,
   "id": "dccd54df-2b37-4a8a-948e-a36c0b46fabd",
   "metadata": {},
   "outputs": [],
   "source": [
    "# Remove unnecessary columns\n",
    "df_teams = df_teams.drop(columns=['index', 'Unnamed: 0', 'CFID', 'CFPARAMS'])\n",
    "\n",
    "# Convert Date column to datetime\n",
    "df_teams['Date'] = pd.to_datetime(df_teams['Date'])\n",
    "\n",
    "# Set Date as the index for easier time series analysis\n",
    "df_teams.set_index('Date', inplace=True)"
   ]
  },
  {
   "cell_type": "code",
   "execution_count": 7,
   "id": "857727ef-8d41-41fb-8353-e8413257afc4",
   "metadata": {},
   "outputs": [
    {
     "data": {
      "image/png": "[encoded data removed]",
      "text/plain": [
       "<Figure size 1000x600 with 1 Axes>"
      ]
     },
     "metadata": {},
     "output_type": "display_data"
    }
   ],
   "source": [
    "import matplotlib.pyplot as plt\n",
    "print df_teams['EA\n",
    "# Filter by a specific team or visualize all teams\n",
    "team_name = \"Los Angeles Lakers\"\n",
    "df_team = df_teams[df_teams['TEAM_NAME'] == team_name]\n",
    "\n",
    "plt.figure(figsize=(10,6))\n",
    "plt.plot(df_team.index, df_team['W_PCT'], label='Win Percentage')\n",
    "plt.title(f'{team_name} Win Percentage Over Time')\n",
    "plt.xlabel('Date')\n",
    "plt.ylabel('Win Percentage')\n",
    "plt.legend()\n",
    "plt.grid(True)\n",
    "plt.show()"
   ]
  }
 ],
 "metadata": {
  "kernelspec": {
   "display_name": "Python 3 (ipykernel)",
   "language": "python",
   "name": "python3"
  },
  "language_info": {
   "codemirror_mode": {
    "name": "ipython",
    "version": 3
   },
   "file_extension": ".py",
   "mimetype": "text/x-python",
   "name": "python",
   "nbconvert_exporter": "python",
   "pygments_lexer": "ipython3",
   "version": "3.11.9"
  }
 },
 "nbformat": 4,
 "nbformat_minor": 5
}
