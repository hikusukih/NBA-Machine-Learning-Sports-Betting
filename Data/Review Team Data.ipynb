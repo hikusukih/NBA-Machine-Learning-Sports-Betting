{
 "cells": [
  {
   "cell_type": "code",
   "execution_count": null,
   "id": "4357a3d7-37fe-4598-b98a-9f17c0da9893",
   "metadata": {},
   "outputs": [],
   "source": [
    "import pandas as pd\n",
    "import sqlite3\n",
    "connTeams = sqlite3.connect(\"teams.sqlite\")\n",
    "\n",
    "sqlSelectTables = \"SELECT name FROM sqlite_master WHERE type='table';\"\n",
    "\n",
    "tables_teams = pd.read_sql(sqlSelectTables, connTeams)\n",
    "\n",
    "tables_teams"
   ]
  },
  {
   "cell_type": "code",
   "execution_count": null,
   "id": "06a4d01f-d0dc-4026-afaf-fd376e1bb4c7",
   "metadata": {},
   "outputs": [],
   "source": [
    "# Read the table into a pandas DataFrame\n",
    "table_name = \"teams_2021-22-12-31\"\n",
    "escaped_table_name = f'\"{table_name}\"'  # Escape table name with double quotes\n",
    "df_teams = pd.read_sql(\"SELECT * FROM \" + escaped_table_name, connTeams)\n",
    "df_teams\n",
    "\n",
    "# Read the table into a pandas DataFrame\n",
    "table_name = \"teams_2021-22-12-31\"\n",
    "escaped_table_name = f'\"{table_name}\"'  # Escape table name with double quotes\n",
    "df_teams = pd.read_sql(\"SELECT * FROM \" + escaped_table_name, connTeams)\n",
    "df_teams"
   ]
  }
 ],
 "metadata": {
  "kernelspec": {
   "display_name": "Python 3 (ipykernel)",
   "language": "python",
   "name": "python3"
  },
  "language_info": {
   "codemirror_mode": {
    "name": "ipython",
    "version": 3
   },
   "file_extension": ".py",
   "mimetype": "text/x-python",
   "name": "python",
   "nbconvert_exporter": "python",
   "pygments_lexer": "ipython3",
   "version": "3.11.9"
  }
 },
 "nbformat": 4,
 "nbformat_minor": 5
}
