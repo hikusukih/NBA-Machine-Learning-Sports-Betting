{
 "cells": [
  {
   "cell_type": "code",
   "execution_count": null,
   "id": "d8e61f7c-3238-456d-a3e5-67eb9ace7552",
   "metadata": {},
   "outputs": [],
   "source": [
    "import pandas as pd\n",
    "import sqlite3\n",
    "connOdds = sqlite3.connect(\"odds.sqlite\")\n",
    "\n",
    "sqlSelectTables = \"SELECT name FROM sqlite_master WHERE type='table';\"\n",
    "\n",
    "tables_teams = pd.read_sql(sqlSelectTables, connTeams)\n",
    "\n",
    "tables_teams"
   ]
  },
  {
   "cell_type": "code",
   "execution_count": null,
   "id": "cc095a3a-d9ef-4f7d-9bcf-acd2aad2e339",
   "metadata": {},
   "outputs": [],
   "source": [
    "table_name = \"odds_2023-24\"\n",
    "escaped_table_name = f'\"{table_name}\"'  # Escape table name with double quotes\n",
    "df_odds = pd.read_sql(\"SELECT * FROM \" + escaped_table_name, connOdds)\n",
    "\n",
    "\n",
    "# Display the DataFrame\n",
    "print(df_odds.head())\n",
    "df_odds\n"
   ]
  }
 ],
 "metadata": {
  "kernelspec": {
   "display_name": "Python 3 (ipykernel)",
   "language": "python",
   "name": "python3"
  },
  "language_info": {
   "codemirror_mode": {
    "name": "ipython",
    "version": 3
   },
   "file_extension": ".py",
   "mimetype": "text/x-python",
   "name": "python",
   "nbconvert_exporter": "python",
   "pygments_lexer": "ipython3",
   "version": "3.11.9"
  }
 },
 "nbformat": 4,
 "nbformat_minor": 5
}
