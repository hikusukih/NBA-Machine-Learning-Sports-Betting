{
 "cells": [
  {
   "cell_type": "code",
   "execution_count": 6,
   "id": "c7ef0ad9-b118-491f-9f80-52ccbbc6f764",
   "metadata": {},
   "outputs": [
    {
     "data": {
      "text/html": [
       "<div>\n",
       "<style scoped>\n",
       "    .dataframe tbody tr th:only-of-type {\n",
       "        vertical-align: middle;\n",
       "    }\n",
       "\n",
       "    .dataframe tbody tr th {\n",
       "        vertical-align: top;\n",
       "    }\n",
       "\n",
       "    .dataframe thead th {\n",
       "        text-align: right;\n",
       "    }\n",
       "</style>\n",
       "<table border=\"1\" class=\"dataframe\">\n",
       "  <thead>\n",
       "    <tr style=\"text-align: right;\">\n",
       "      <th></th>\n",
       "      <th>name</th>\n",
       "    </tr>\n",
       "  </thead>\n",
       "  <tbody>\n",
       "    <tr>\n",
       "      <th>0</th>\n",
       "      <td>dataset_2012-23</td>\n",
       "    </tr>\n",
       "    <tr>\n",
       "      <th>1</th>\n",
       "      <td>dataset_2012-24</td>\n",
       "    </tr>\n",
       "  </tbody>\n",
       "</table>\n",
       "</div>"
      ],
      "text/plain": [
       "              name\n",
       "0  dataset_2012-23\n",
       "1  dataset_2012-24"
      ]
     },
     "execution_count": 6,
     "metadata": {},
     "output_type": "execute_result"
    }
   ],
   "source": [
    "import pandas as pd\n",
    "import sqlite3\n",
    "pd.set_option('display.max_columns', None)\n",
    "connData = sqlite3.connect(\"dataset.sqlite\")\n",
    "\n",
    "sqlSelectTables = \"SELECT name FROM sqlite_master WHERE type='table';\"\n",
    "\n",
    "tables_data = pd.read_sql(sqlSelectTables, connData)\n",
    "\n",
    "tables_data"
   ]
  },
  {
   "cell_type": "code",
   "execution_count": 4,
   "id": "4d034a96-bab6-427a-9f0b-5255a57a746e",
   "metadata": {
    "scrolled": true
   },
   "outputs": [
    {
     "name": "stdout",
     "output_type": "stream",
     "text": [
      "   index              TEAM_NAME   GP    W    L  W_PCT   MIN   FGM   FGA  \\\n",
      "0      0        New York Knicks  1.0  1.0  0.0    1.0  48.0  36.0  84.0   \n",
      "1      1        Toronto Raptors  2.0  0.0  2.0    0.0  48.0  35.0  86.5   \n",
      "2      2          Orlando Magic  1.0  1.0  0.0    1.0  48.0  42.0  86.0   \n",
      "3      3  Oklahoma City Thunder  2.0  1.0  1.0    0.5  48.0  34.0  76.5   \n",
      "4      4     Los Angeles Lakers  3.0  0.0  3.0    0.0  48.0  36.0  72.3   \n",
      "\n",
      "   FG_PCT  ...  PFD_RANK.1  PTS_RANK.1  PLUS_MINUS_RANK.1      Date.1  Score  \\\n",
      "0   0.429  ...        10.0        30.0                5.0  2012-11-04  184.0   \n",
      "1   0.405  ...         1.0        25.0                3.0  2012-11-04  191.0   \n",
      "2   0.488  ...        19.0        27.0               17.0  2012-11-04  209.0   \n",
      "3   0.444  ...        24.0         6.0               24.0  2012-11-04  199.0   \n",
      "4   0.498  ...        10.0        24.0               22.0  2012-11-04  187.0   \n",
      "\n",
      "   Home-Team-Win     OU  OU-Cover  Days-Rest-Home  Days-Rest-Away  \n",
      "0            1.0  188.0       0.0             2.0             4.0  \n",
      "1            1.0  187.0       1.0             1.0             2.0  \n",
      "2            1.0  194.5       1.0             2.0             2.0  \n",
      "3            0.0  199.0       2.0             2.0             2.0  \n",
      "4            1.0  192.0       0.0             2.0             2.0  \n",
      "\n",
      "[5 rows x 115 columns]\n"
     ]
    },
    {
     "data": {
      "text/plain": [
       "['index',\n",
       " 'TEAM_NAME',\n",
       " 'GP',\n",
       " 'W',\n",
       " 'L',\n",
       " 'W_PCT',\n",
       " 'MIN',\n",
       " 'FGM',\n",
       " 'FGA',\n",
       " 'FG_PCT',\n",
       " 'FG3M',\n",
       " 'FG3A',\n",
       " 'FG3_PCT',\n",
       " 'FTM',\n",
       " 'FTA',\n",
       " 'FT_PCT',\n",
       " 'OREB',\n",
       " 'DREB',\n",
       " 'REB',\n",
       " 'AST',\n",
       " 'TOV',\n",
       " 'STL',\n",
       " 'BLK',\n",
       " 'BLKA',\n",
       " 'PF',\n",
       " 'PFD',\n",
       " 'PTS',\n",
       " 'PLUS_MINUS',\n",
       " 'GP_RANK',\n",
       " 'W_RANK',\n",
       " 'L_RANK',\n",
       " 'W_PCT_RANK',\n",
       " 'MIN_RANK',\n",
       " 'FGM_RANK',\n",
       " 'FGA_RANK',\n",
       " 'FG_PCT_RANK',\n",
       " 'FG3M_RANK',\n",
       " 'FG3A_RANK',\n",
       " 'FG3_PCT_RANK',\n",
       " 'FTM_RANK',\n",
       " 'FTA_RANK',\n",
       " 'FT_PCT_RANK',\n",
       " 'OREB_RANK',\n",
       " 'DREB_RANK',\n",
       " 'REB_RANK',\n",
       " 'AST_RANK',\n",
       " 'TOV_RANK',\n",
       " 'STL_RANK',\n",
       " 'BLK_RANK',\n",
       " 'BLKA_RANK',\n",
       " 'PF_RANK',\n",
       " 'PFD_RANK',\n",
       " 'PTS_RANK',\n",
       " 'PLUS_MINUS_RANK',\n",
       " 'Date',\n",
       " 'TEAM_NAME.1',\n",
       " 'GP.1',\n",
       " 'W.1',\n",
       " 'L.1',\n",
       " 'W_PCT.1',\n",
       " 'MIN.1',\n",
       " 'FGM.1',\n",
       " 'FGA.1',\n",
       " 'FG_PCT.1',\n",
       " 'FG3M.1',\n",
       " 'FG3A.1',\n",
       " 'FG3_PCT.1',\n",
       " 'FTM.1',\n",
       " 'FTA.1',\n",
       " 'FT_PCT.1',\n",
       " 'OREB.1',\n",
       " 'DREB.1',\n",
       " 'REB.1',\n",
       " 'AST.1',\n",
       " 'TOV.1',\n",
       " 'STL.1',\n",
       " 'BLK.1',\n",
       " 'BLKA.1',\n",
       " 'PF.1',\n",
       " 'PFD.1',\n",
       " 'PTS.1',\n",
       " 'PLUS_MINUS.1',\n",
       " 'GP_RANK.1',\n",
       " 'W_RANK.1',\n",
       " 'L_RANK.1',\n",
       " 'W_PCT_RANK.1',\n",
       " 'MIN_RANK.1',\n",
       " 'FGM_RANK.1',\n",
       " 'FGA_RANK.1',\n",
       " 'FG_PCT_RANK.1',\n",
       " 'FG3M_RANK.1',\n",
       " 'FG3A_RANK.1',\n",
       " 'FG3_PCT_RANK.1',\n",
       " 'FTM_RANK.1',\n",
       " 'FTA_RANK.1',\n",
       " 'FT_PCT_RANK.1',\n",
       " 'OREB_RANK.1',\n",
       " 'DREB_RANK.1',\n",
       " 'REB_RANK.1',\n",
       " 'AST_RANK.1',\n",
       " 'TOV_RANK.1',\n",
       " 'STL_RANK.1',\n",
       " 'BLK_RANK.1',\n",
       " 'BLKA_RANK.1',\n",
       " 'PF_RANK.1',\n",
       " 'PFD_RANK.1',\n",
       " 'PTS_RANK.1',\n",
       " 'PLUS_MINUS_RANK.1',\n",
       " 'Date.1',\n",
       " 'Score',\n",
       " 'Home-Team-Win',\n",
       " 'OU',\n",
       " 'OU-Cover',\n",
       " 'Days-Rest-Home',\n",
       " 'Days-Rest-Away']"
      ]
     },
     "execution_count": 4,
     "metadata": {},
     "output_type": "execute_result"
    }
   ],
   "source": [
    "table_name = \"dataset_2012-24\"\n",
    "escaped_table_name = f'\"{table_name}\"'  # Escape table name with double quotes\n",
    "df_data = pd.read_sql(\"SELECT * FROM \" + escaped_table_name, connData)\n",
    "\n",
    "\n",
    "# Display the DataFrame\n",
    "print(df_data.head())\n",
    "df_data\n",
    "\n",
    "list(df_data.columns)\n",
    "\n"
   ]
  },
  {
   "cell_type": "code",
   "execution_count": 13,
   "id": "bbfc6ae8-fceb-4e17-81b4-8236448d1dc3",
   "metadata": {},
   "outputs": [
    {
     "name": "stdout",
     "output_type": "stream",
     "text": [
      "index             0\n",
      "TEAM_NAME         0\n",
      "GP                0\n",
      "W                 0\n",
      "L                 0\n",
      "                 ..\n",
      "Home-Team-Win     0\n",
      "OU                0\n",
      "OU-Cover          0\n",
      "Days-Rest-Home    0\n",
      "Days-Rest-Away    0\n",
      "Length: 115, dtype: int64\n",
      "index             0.0\n",
      "TEAM_NAME         0.0\n",
      "GP                0.0\n",
      "W                 0.0\n",
      "L                 0.0\n",
      "                 ... \n",
      "Home-Team-Win     0.0\n",
      "OU                0.0\n",
      "OU-Cover          0.0\n",
      "Days-Rest-Home    0.0\n",
      "Days-Rest-Away    0.0\n",
      "Length: 115, dtype: float64\n"
     ]
    }
   ],
   "source": [
    "\n",
    "pd.set_option('display.max_columns', None)\n",
    "print(df_data.isnull().sum())  # Sum of nulls in each column\n",
    "print(df_data.isnull().mean())  # Percentage of missing values per column\n"
   ]
  },
  {
   "cell_type": "code",
   "execution_count": 8,
   "id": "1779edbd-7bc5-4182-b3c6-e73997554d54",
   "metadata": {},
   "outputs": [
    {
     "data": {
      "image/png": "[encoded data removed]",
      "text/plain": [
       "<Figure size 640x480 with 1 Axes>"
      ]
     },
     "metadata": {},
     "output_type": "display_data"
    }
   ],
   "source": [
    "import seaborn as sns\n",
    "import matplotlib.pyplot as plt\n",
    "\n",
    "sns.heatmap(df_data.isnull(), cbar=False, cmap=\"viridis\")\n",
    "plt.title(\"Missing Data Heatmap\")\n",
    "plt.show()"
   ]
  },
  {
   "cell_type": "code",
   "execution_count": 33,
   "id": "997c42e4-1ff6-4d7f-beb2-87bd9d409c30",
   "metadata": {},
   "outputs": [
    {
     "data": {
      "text/plain": [
       "False"
      ]
     },
     "execution_count": 33,
     "metadata": {},
     "output_type": "execute_result"
    }
   ],
   "source": [
    "df_data.isnull().values.any()\n"
   ]
  },
  {
   "cell_type": "code",
   "execution_count": 37,
   "id": "2072b177-1077-474e-968c-6a1f73b8a214",
   "metadata": {},
   "outputs": [
    {
     "data": {
      "text/plain": [
       "0        1.0\n",
       "1        1.0\n",
       "2        1.0\n",
       "3        0.0\n",
       "4        1.0\n",
       "        ... \n",
       "14788    0.0\n",
       "14789    1.0\n",
       "14790    1.0\n",
       "14791    1.0\n",
       "14792    0.0\n",
       "Name: Home-Team-Win, Length: 14793, dtype: float64"
      ]
     },
     "execution_count": 37,
     "metadata": {},
     "output_type": "execute_result"
    }
   ],
   "source": [
    "df_data['Home-Team-Win']"
   ]
  }
 ],
 "metadata": {
  "kernelspec": {
   "display_name": "Python 3 (ipykernel)",
   "language": "python",
   "name": "python3"
  },
  "language_info": {
   "codemirror_mode": {
    "name": "ipython",
    "version": 3
   },
   "file_extension": ".py",
   "mimetype": "text/x-python",
   "name": "python",
   "nbconvert_exporter": "python",
   "pygments_lexer": "ipython3",
   "version": "3.11.9"
  }
 },
 "nbformat": 4,
 "nbformat_minor": 5
}
