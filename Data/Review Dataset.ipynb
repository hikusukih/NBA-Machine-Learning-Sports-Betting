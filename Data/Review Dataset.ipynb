{
 "cells": [
  {
   "cell_type": "code",
   "execution_count": null,
   "id": "c7ef0ad9-b118-491f-9f80-52ccbbc6f764",
   "metadata": {},
   "outputs": [],
   "source": [
    "import pandas as pd\n",
    "import sqlite3\n",
    "connData = sqlite3.connect(\"dataset.sqlite\")\n",
    "\n",
    "sqlSelectTables = \"SELECT name FROM sqlite_master WHERE type='table';\"\n",
    "\n",
    "tables_data = pd.read_sql(sqlSelectTables, connData)\n",
    "\n",
    "tables_data"
   ]
  },
  {
   "cell_type": "code",
   "execution_count": null,
   "id": "4d034a96-bab6-427a-9f0b-5255a57a746e",
   "metadata": {},
   "outputs": [],
   "source": [
    "table_name = \"dataset_2012-24\"\n",
    "escaped_table_name = f'\"{table_name}\"'  # Escape table name with double quotes\n",
    "df_data = pd.read_sql(\"SELECT * FROM \" + escaped_table_name, connData)\n",
    "\n",
    "\n",
    "# Display the DataFrame\n",
    "print(df_data.head())\n",
    "df_data\n"
   ]
  }
 ],
 "metadata": {
  "kernelspec": {
   "display_name": "Python 3 (ipykernel)",
   "language": "python",
   "name": "python3"
  },
  "language_info": {
   "codemirror_mode": {
    "name": "ipython",
    "version": 3
   },
   "file_extension": ".py",
   "mimetype": "text/x-python",
   "name": "python",
   "nbconvert_exporter": "python",
   "pygments_lexer": "ipython3",
   "version": "3.11.9"
  }
 },
 "nbformat": 4,
 "nbformat_minor": 5
}
